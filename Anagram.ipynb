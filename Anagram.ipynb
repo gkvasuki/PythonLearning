{
 "cells": [
  {
   "cell_type": "code",
   "execution_count": 44,
   "metadata": {
    "collapsed": false
   },
   "outputs": [],
   "source": [
    "def anagram(s1,s2):\n",
    "    \n",
    "    aZeroOrdValue = ord('0')\n",
    "    aOrdValue = ord('a')\n",
    "    alphCountArr = [0 for x in range(36)]\n",
    "    \n",
    "    #print(alphCountArr)\n",
    "    \n",
    "    for ch in s1:\n",
    "        ordch = ord(ch)\n",
    "        if(ch.isalpha()):\n",
    "            ch = ch.lower()\n",
    "            alphCountArr[10 + ordch - aOrdValue] += 1\n",
    "        if(ch.isdigit()):\n",
    "            alphCountArr[ordch - aZeroOrdValue] += 1\n",
    "            \n",
    "            \n",
    "     \n",
    "    #print(alphCountArr)\n",
    "    \n",
    "    for ch in s2:\n",
    "        ordch = ord(ch)\n",
    "        #print(ch)\n",
    "        if(ch.isalpha()):\n",
    "            ch = ch.lower()\n",
    "            alphCountArr[10 + ordch - aOrdValue] -= 1\n",
    "        if(ch.isdigit()):\n",
    "            alphCountArr[ordch - aZeroOrdValue] -= 1\n",
    "\n",
    "    for count in alphCountArr:\n",
    "        if(count != 0):\n",
    "            return False\n",
    "    \n",
    "    return True\n",
    "    #print(alphCountArr)\n",
    "    \n"
   ]
  },
  {
   "cell_type": "code",
   "execution_count": 45,
   "metadata": {
    "collapsed": false
   },
   "outputs": [],
   "source": [
    "def anagram2(s1,s2):\n",
    "    s1 = s1.replace(' ', '').lower()\n",
    "    s2 = s2.replace(' ', '').lower()\n",
    "    \n",
    "    if(len(s1) != len(s2)):\n",
    "        return False\n",
    "    \n",
    "    values = {}\n",
    "    \n",
    "    for ch in s1:\n",
    "        if(ch in values):\n",
    "            values[ch] += 1\n",
    "        else :\n",
    "            values[ch] = 1\n",
    "    \n",
    "    for ch in s2:\n",
    "        if(ch in values):\n",
    "            values[ch] -= 1\n",
    "        else:\n",
    "            return False\n",
    "    \n",
    "    for k in values:\n",
    "        if(values[k] != 0):\n",
    "            return False\n",
    "    \n",
    "    return True\n",
    "    \n",
    "    "
   ]
  },
  {
   "cell_type": "code",
   "execution_count": 43,
   "metadata": {
    "collapsed": false
   },
   "outputs": [
    {
     "name": "stdout",
     "output_type": "stream",
     "text": [
      "ALL TEST CASES PASSED\n"
     ]
    }
   ],
   "source": [
    "\"\"\"\n",
    "RUN THIS CELL TO TEST YOUR SOLUTION\n",
    "\"\"\"\n",
    "from nose.tools import assert_equal\n",
    "\n",
    "class AnagramTest(object):\n",
    "    \n",
    "    def test(self,sol):\n",
    "        assert_equal(sol('go go go','gggooo'),True)\n",
    "        assert_equal(sol('abc','cba'),True)\n",
    "        assert_equal(sol('hi man','hi     man'),True)\n",
    "        assert_equal(sol('aabbcc','aabbc'),False)\n",
    "        assert_equal(sol('123','1 2'),False)\n",
    "        assert_equal(sol(\"public relations\",\"crap built on lies\"),True)\n",
    "        print(\"ALL TEST CASES PASSED\")\n",
    "\n",
    "# Run Tests\n",
    "t = AnagramTest()\n",
    "t.test(anagram2)"
   ]
  },
  {
   "cell_type": "code",
   "execution_count": 46,
   "metadata": {
    "collapsed": true
   },
   "outputs": [],
   "source": []
  },
  {
   "cell_type": "code",
   "execution_count": null,
   "metadata": {
    "collapsed": true
   },
   "outputs": [],
   "source": []
  }
 ],
 "metadata": {
  "anaconda-cloud": {},
  "kernelspec": {
   "display_name": "Python [conda root]",
   "language": "python",
   "name": "conda-root-py"
  },
  "language_info": {
   "codemirror_mode": {
    "name": "ipython",
    "version": 3
   },
   "file_extension": ".py",
   "mimetype": "text/x-python",
   "name": "python",
   "nbconvert_exporter": "python",
   "pygments_lexer": "ipython3",
   "version": "3.5.2"
  }
 },
 "nbformat": 4,
 "nbformat_minor": 1
}
