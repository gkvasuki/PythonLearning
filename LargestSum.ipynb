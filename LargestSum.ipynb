{
 "cells": [
  {
   "cell_type": "code",
   "execution_count": 39,
   "metadata": {
    "collapsed": false
   },
   "outputs": [],
   "source": [
    "def large_cont_sum(arr):\n",
    "    sum = largest = arr[0]\n",
    "    beginIndex = endIndex = 0\n",
    "    begMaxIndex = endMaxIndex = 0\n",
    "    \n",
    "    for index in range(1, len(arr)):\n",
    "        newSum = sum + arr[index]\n",
    "        #print(newSum, sum, largest)\n",
    "        if(newSum > sum ):\n",
    "            if(sum > 0):\n",
    "                endIndex = index\n",
    "                sum = newSum\n",
    "            else:\n",
    "                beginIndex = endIndex = index;\n",
    "                sum = arr[index]\n",
    "            if(sum > largest):\n",
    "                largest = sum\n",
    "                begMaxIndex = beginIndex\n",
    "                endMaxIndex = endIndex\n",
    "            \n",
    "        elif(newSum < sum):\n",
    "            if(sum > largest):\n",
    "                largest = sum\n",
    "                begMaxIndex = beginIndex\n",
    "                endMaxIndex = endIndex\n",
    "            sum = newSum\n",
    "            if(newSum < 0):\n",
    "                beginIndex = endIndex = index\n",
    "                sum = arr[index]\n",
    "                if(largest < sum):\n",
    "                    largest = sum\n",
    "                    begMaxIndex = beginIndex\n",
    "                    endMaxIndex = endIndex\n",
    "    \n",
    "    print(begMaxIndex, endMaxIndex)\n",
    "    return largest\n",
    "            \n",
    "    "
   ]
  },
  {
   "cell_type": "code",
   "execution_count": 41,
   "metadata": {
    "collapsed": true
   },
   "outputs": [],
   "source": [
    "def large_cont_sum2(arr):\n",
    "    sum = largest = arr[0]\n",
    "    beginIndex = endIndex = 0\n",
    "    begMaxIndex = endMaxIndex = 0\n",
    "    \n",
    "    for index in range(1, len(arr)):\n",
    "        num = arr[index]\n",
    "        if(sum + num > num):\n",
    "            sum = sum + num\n",
    "            endIndex = index\n",
    "        else:\n",
    "            sum = num\n",
    "            beginIndex = endIndex = index\n",
    "        \n",
    "        if(largest < sum):\n",
    "            largest = sum\n",
    "            begMaxIndex = beginIndex\n",
    "            endMaxIndex = endIndex\n",
    "        #print(newSum, sum, largest)\n",
    "        \n",
    "    \n",
    "    print(begMaxIndex, endMaxIndex)\n",
    "    return largest\n",
    "            "
   ]
  },
  {
   "cell_type": "code",
   "execution_count": 42,
   "metadata": {
    "collapsed": false
   },
   "outputs": [
    {
     "name": "stdout",
     "output_type": "stream",
     "text": [
      "0 4\n",
      "0 6\n",
      "1 1\n",
      "3 3\n",
      "4 6\n",
      "ALL TEST CASES PASSED\n"
     ]
    }
   ],
   "source": [
    "from nose.tools import assert_equal\n",
    "\n",
    "class LargeContTest(object):\n",
    "    def test(self,sol):\n",
    "        assert_equal(sol([1,2,-1,3,4,-1]),9)\n",
    "        assert_equal(sol([1,2,-1,3,4,10,10,-10,-1]),29)\n",
    "        assert_equal(sol([-1,1]),1)\n",
    "        assert_equal(sol([-4,-3,-2,-1]), -1)\n",
    "        assert_equal(sol([1, 2, 3, -10, 3, 4, 5]), 12)\n",
    "        print ('ALL TEST CASES PASSED')\n",
    "        \n",
    "#Run Test\n",
    "t = LargeContTest()\n",
    "t.test(large_cont_sum2)"
   ]
  },
  {
   "cell_type": "code",
   "execution_count": null,
   "metadata": {
    "collapsed": true
   },
   "outputs": [],
   "source": []
  }
 ],
 "metadata": {
  "kernelspec": {
   "display_name": "Python [conda root]",
   "language": "python",
   "name": "conda-root-py"
  },
  "language_info": {
   "codemirror_mode": {
    "name": "ipython",
    "version": 3
   },
   "file_extension": ".py",
   "mimetype": "text/x-python",
   "name": "python",
   "nbconvert_exporter": "python",
   "pygments_lexer": "ipython3",
   "version": "3.5.2"
  }
 },
 "nbformat": 4,
 "nbformat_minor": 1
}
