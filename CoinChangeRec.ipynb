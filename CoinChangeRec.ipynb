{
 "cells": [
  {
   "cell_type": "code",
   "execution_count": 37,
   "metadata": {
    "collapsed": false
   },
   "outputs": [],
   "source": [
    "\n",
    "def rec_coin(target, coins, foundList = None):\n",
    "    \n",
    "    \n",
    "    if(foundList == None):\n",
    "        foundList = {}\n",
    "    #print(foundList)\n",
    "    if target in coins:\n",
    "        foundList[target] = [target]\n",
    "        #print(target, foundList[target])\n",
    "        return 1\n",
    "    if target in foundList:\n",
    "        #print(target, foundList[target])\n",
    "        return len(foundList[target])\n",
    "        \n",
    "    mincoins = target\n",
    "    \n",
    "    coinList = []\n",
    "    for coin in [coin for coin in coins if coin <= target]:\n",
    "        \n",
    "        noOfCoins = 1 + rec_coin(target -coin, coins, foundList)\n",
    "        if(noOfCoins <= mincoins) :\n",
    "            mincoins = noOfCoins\n",
    "            coinList = [coin] + foundList[target - coin]\n",
    "            \n",
    "    #print(map)\n",
    "    foundList[target] = coinList\n",
    "    print(target, foundList[target])\n",
    "    \n",
    "    return mincoins"
   ]
  },
  {
   "cell_type": "code",
   "execution_count": 39,
   "metadata": {
    "collapsed": false
   },
   "outputs": [
    {
     "name": "stdout",
     "output_type": "stream",
     "text": [
      "6 [5, 1]\n",
      "11 [10, 1]\n",
      "2 [1, 1]\n",
      "7 [5, 1, 1]\n",
      "12 [10, 1, 1]\n",
      "3 [1, 1, 1]\n",
      "8 [5, 1, 1, 1]\n",
      "13 [10, 1, 1, 1]\n",
      "4 [1, 1, 1, 1]\n",
      "9 [5, 1, 1, 1, 1]\n",
      "14 [10, 1, 1, 1, 1]\n",
      "15 [10, 5]\n",
      "16 [10, 5, 1]\n",
      "26 [25, 1]\n",
      "17 [10, 5, 1, 1]\n",
      "22 [21, 1]\n",
      "27 [25, 1, 1]\n",
      "18 [10, 5, 1, 1, 1]\n",
      "23 [21, 1, 1]\n",
      "28 [25, 1, 1, 1]\n",
      "19 [10, 5, 1, 1, 1, 1]\n",
      "24 [21, 1, 1, 1]\n",
      "29 [25, 1, 1, 1, 1]\n",
      "20 [10, 10]\n",
      "30 [25, 5]\n",
      "31 [21, 10]\n",
      "32 [21, 10, 1]\n",
      "33 [21, 10, 1, 1]\n",
      "34 [21, 10, 1, 1, 1]\n",
      "35 [25, 10]\n",
      "36 [25, 10, 1]\n",
      "37 [25, 10, 1, 1]\n",
      "38 [25, 10, 1, 1, 1]\n",
      "39 [25, 10, 1, 1, 1, 1]\n",
      "40 [25, 10, 5]\n",
      "41 [21, 10, 10]\n",
      "42 [21, 21]\n",
      "43 [21, 21, 1]\n",
      "44 [21, 21, 1, 1]\n",
      "45 [25, 10, 10]\n",
      "46 [25, 21]\n",
      "47 [25, 21, 1]\n",
      "48 [25, 21, 1, 1]\n",
      "49 [25, 21, 1, 1, 1]\n",
      "50 [25, 25]\n",
      "51 [25, 25, 1]\n",
      "52 [21, 21, 10]\n",
      "53 [21, 21, 10, 1]\n",
      "54 [21, 21, 10, 1, 1]\n",
      "55 [25, 25, 5]\n",
      "56 [25, 21, 10]\n",
      "57 [25, 21, 10, 1]\n",
      "58 [25, 21, 10, 1, 1]\n",
      "59 [25, 21, 10, 1, 1, 1]\n",
      "60 [25, 25, 10]\n",
      "61 [25, 25, 10, 1]\n",
      "62 [21, 21, 10, 10]\n",
      "63 [21, 21, 21]\n"
     ]
    },
    {
     "data": {
      "text/plain": [
       "3"
      ]
     },
     "execution_count": 39,
     "metadata": {},
     "output_type": "execute_result"
    }
   ],
   "source": [
    "rec_coin(63, [1, 5, 10, 21, 25])"
   ]
  }
 ],
 "metadata": {
  "anaconda-cloud": {},
  "kernelspec": {
   "display_name": "Python [conda root]",
   "language": "python",
   "name": "conda-root-py"
  },
  "language_info": {
   "codemirror_mode": {
    "name": "ipython",
    "version": 3
   },
   "file_extension": ".py",
   "mimetype": "text/x-python",
   "name": "python",
   "nbconvert_exporter": "python",
   "pygments_lexer": "ipython3",
   "version": "3.5.2"
  }
 },
 "nbformat": 4,
 "nbformat_minor": 1
}
